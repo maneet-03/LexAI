{
 "cells": [
  {
   "cell_type": "code",
   "execution_count": null,
   "id": "16c2217b-ce80-489b-9327-dc3576ef5423",
   "metadata": {},
   "outputs": [],
   "source": [
    "import numpy as np #matrix library\n",
    "import pandas as pd #data frames: 2d matrices\n",
    "import matplotlib.pyplot as plt #plotting\n",
    "import seaborn as sns #plotting\n",
    "#mother of machine learning - sklearn (scikit learn)\n",
    "from sklearn.datasets import load_iris #dataset that we are trying to solve for\n",
    "from sklearn.model_selection import train_test_split \n",
    "from sklearn.linear_model import LogisticRegression \n",
    "from sklearn.metrics import accuracy_score, confusion_matrix "
   ]
  },
  {
   "cell_type": "code",
   "execution_count": null,
   "id": "c649c2ad-bee6-42c1-bd4e-de77c1fe0741",
   "metadata": {},
   "outputs": [],
   "source": [
    "# Loading the dataset\n",
    "print(\"=== 1. Loading the Iris Dataset ===\")\n",
    "iris = load_iris() #calling function which will return an object\n",
    "# print(type(iris))\n",
    "# print(iris)\n",
    "x = iris.data #data segregated in the form of features of X samples\n",
    "y = iris.target #true values\n",
    "# print(x)\n",
    "# print(y)"
   ]
  },
  {
   "cell_type": "code",
   "execution_count": null,
   "id": "0f77767d-f2b5-43aa-94ab-f8c86a70c811",
   "metadata": {},
   "outputs": [],
   "source": [
    "# Loading Feature names and Target names\n",
    "feature_names = iris.feature_names\n",
    "target_names = iris.target_names #classification labels\n",
    "print(\"=== 2. Feature Names ===\")\n",
    "print(feature_names)\n",
    "print(\"=== 3. Target Names ===\")\n",
    "print(target_names)"
   ]
  },
  {
   "cell_type": "code",
   "execution_count": null,
   "id": "bc5d4e0e-af12-4541-bfcc-3a3c5f996a79",
   "metadata": {},
   "outputs": [],
   "source": [
    "# Creating a DataFrame for better visualization\n",
    "df = pd.DataFrame(x, columns=feature_names)\n",
    "df['species'] = [target_names[i] for i in y]\n",
    "\n",
    "print(\"\\nFirst five rows of the dataset:\")\n",
    "print(df.head()) #specify the number inside head to customize the view count of the number of rows\n",
    "print(\"\\nDataset shape:\", x.shape)\n",
    "print(\"Features:\", feature_names)\n",
    "print(\"Target classes:\", target_names)"
   ]
  },
  {
   "cell_type": "code",
   "execution_count": null,
   "id": "7351ba9f-187d-414d-a09e-08976334bc66",
   "metadata": {},
   "outputs": [],
   "source": [
    "# Plotting pair plot to understand relation of different features\n",
    "print(\"\\n=== 2. Visualizing the Data ===\")\n",
    "plt.figure(figsize=(12,8))\n",
    "sns.pairplot(df, hue='species') #species is a column name in df\n",
    "plt.suptitle('Pair Plot of Iris Features', y=1.02)\n",
    "plt.tight_layout()\n",
    "plt.show()"
   ]
  },
  {
   "cell_type": "code",
   "execution_count": null,
   "id": "216c275e-604d-485e-8fd5-1144aa754cdc",
   "metadata": {},
   "outputs": [],
   "source": [
    "# Split the Data for Testing and Training\n",
    "print(\"\\n=== 3. Preparing Data for Training ===\")\n",
    "X_train, X_test, y_train, y_test = train_test_split(x, y, test_size=0.2, random_state=42)\n",
    "print(f\"Training set size: {X_train.shape[0]} samples\")\n",
    "print(f\"Testing set size: {X_test.shape[0]} samples\")"
   ]
  },
  {
   "cell_type": "code",
   "execution_count": null,
   "id": "b42da8da-8e7c-4a3d-90de-1f2983cf56f9",
   "metadata": {},
   "outputs": [],
   "source": [
    "# Train the model\n"
   ]
  }
 ],
 "metadata": {
  "kernelspec": {
   "display_name": "Python 3 (ipykernel)",
   "language": "python",
   "name": "python3"
  },
  "language_info": {
   "codemirror_mode": {
    "name": "ipython",
    "version": 3
   },
   "file_extension": ".py",
   "mimetype": "text/x-python",
   "name": "python",
   "nbconvert_exporter": "python",
   "pygments_lexer": "ipython3",
   "version": "3.13.3"
  }
 },
 "nbformat": 4,
 "nbformat_minor": 5
}
